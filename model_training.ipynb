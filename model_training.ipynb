{
 "cells": [
  {
   "cell_type": "code",
   "execution_count": 2,
   "id": "660b0352-47d4-48b1-a3cc-7b9aa5327f94",
   "metadata": {},
   "outputs": [
    {
     "name": "stderr",
     "output_type": "stream",
     "text": [
      "[nltk_data] Downloading package punkt to\n",
      "[nltk_data]     /Users/jabezianchrispenalver/nltk_data...\n",
      "[nltk_data]   Package punkt is already up-to-date!\n",
      "[nltk_data] Downloading package stopwords to\n",
      "[nltk_data]     /Users/jabezianchrispenalver/nltk_data...\n",
      "[nltk_data]   Package stopwords is already up-to-date!\n",
      "[nltk_data] Downloading package wordnet to\n",
      "[nltk_data]     /Users/jabezianchrispenalver/nltk_data...\n",
      "[nltk_data]   Package wordnet is already up-to-date!\n",
      "[nltk_data] Downloading package omw-1.4 to\n",
      "[nltk_data]     /Users/jabezianchrispenalver/nltk_data...\n",
      "[nltk_data]   Package omw-1.4 is already up-to-date!\n"
     ]
    },
    {
     "data": {
      "text/plain": [
       "True"
      ]
     },
     "execution_count": 2,
     "metadata": {},
     "output_type": "execute_result"
    }
   ],
   "source": [
    "import os\n",
    "import pandas as pd\n",
    "import numpy as np\n",
    "from sklearn.model_selection import cross_val_predict, cross_val_score\n",
    "from sklearn.feature_extraction.text import TfidfVectorizer\n",
    "from sklearn.svm import SVC\n",
    "from sklearn.neighbors import KNeighborsClassifier\n",
    "from sklearn.tree import DecisionTreeClassifier\n",
    "from sklearn.ensemble import RandomForestClassifier\n",
    "from sklearn.naive_bayes import MultinomialNB\n",
    "from sklearn.linear_model import LogisticRegression\n",
    "from sklearn.metrics import precision_score, recall_score, f1_score, confusion_matrix, accuracy_score\n",
    "import matplotlib.pyplot as plt\n",
    "import seaborn as sns\n",
    "import nltk\n",
    "from nltk.corpus import stopwords\n",
    "from nltk.tokenize import word_tokenize\n",
    "from nltk.stem import WordNetLemmatizer\n",
    "import string\n",
    "import pickle\n",
    "import lightgbm as lgb\n",
    "from xgboost import XGBClassifier\n",
    "from tqdm import tqdm\n",
    "\n",
    "# Download NLTK resources\n",
    "nltk.download('punkt')\n",
    "nltk.download('stopwords')\n",
    "nltk.download('wordnet')\n",
    "nltk.download('omw-1.4')"
   ]
  },
  {
   "cell_type": "code",
   "execution_count": 3,
   "id": "6b19fada-5246-4db6-81a4-7479a35112ab",
   "metadata": {},
   "outputs": [],
   "source": [
    "# Load the dataset\n",
    "df = pd.read_csv(\"Suicide_Detection.csv\")"
   ]
  },
  {
   "cell_type": "code",
   "execution_count": 4,
   "id": "2c44766c-0b2c-4817-a3b2-017166ee2a34",
   "metadata": {},
   "outputs": [
    {
     "name": "stdout",
     "output_type": "stream",
     "text": [
      "First 5 rows of the dataset:\n",
      "   Unnamed: 0                                               text        class\n",
      "0           2  Ex Wife Threatening SuicideRecently I left my ...      suicide\n",
      "1           3  Am I weird I don't get affected by compliments...  non-suicide\n",
      "2           4  Finally 2020 is almost over... So I can never ...  non-suicide\n",
      "3           8          i need helpjust help me im crying so hard      suicide\n",
      "4           9  I’m so lostHello, my name is Adam (16) and I’v...      suicide\n"
     ]
    }
   ],
   "source": [
    "# Display the first 5 rows of the dataset\n",
    "print(\"First 5 rows of the dataset:\")\n",
    "print(df.head())"
   ]
  },
  {
   "cell_type": "code",
   "execution_count": 5,
   "id": "3b5503ca-b012-433d-a6f1-7b855fc859c8",
   "metadata": {},
   "outputs": [],
   "source": [
    "# Select only 232,074 rows\n",
    "df = df.sample(n=232074, random_state=42)"
   ]
  },
  {
   "cell_type": "code",
   "execution_count": 6,
   "id": "b2a807b5-c4c7-4640-a580-2fa774f09a2d",
   "metadata": {},
   "outputs": [
    {
     "name": "stdout",
     "output_type": "stream",
     "text": [
      "Class distribution saved as plots/class_distribution.png\n"
     ]
    },
    {
     "data": {
      "image/png": "[encoded data removed]",
      "text/plain": [
       "<Figure size 800x600 with 1 Axes>"
      ]
     },
     "metadata": {},
     "output_type": "display_data"
    }
   ],
   "source": [
    "# Visualize the class distribution with data points inside bars and save the plot\n",
    "def save_class_distribution(df, output_dir=\"plots\"):\n",
    "    \"\"\"Save class distribution plot as an image file.\"\"\"\n",
    "    plt.figure(figsize=(8, 6))\n",
    "    ax = sns.countplot(data=df, x='class', hue='class', palette='Set2', legend=False)\n",
    "    \n",
    "    # Add counts on top of the bars\n",
    "    for p in ax.patches:\n",
    "        ax.annotate(f'{int(p.get_height())}', (p.get_x() + p.get_width() / 2., p.get_height()), \n",
    "                    ha='center', va='center', xytext=(0, 10), textcoords='offset points', fontsize=12, color='black')\n",
    "    \n",
    "    plt.title('Class Distribution')\n",
    "    plt.xlabel('Class')\n",
    "    plt.ylabel('Frequency')\n",
    "\n",
    "    # Create output directory for saving the plot, if it doesn't exist\n",
    "    if not os.path.exists(output_dir):\n",
    "        os.makedirs(output_dir)\n",
    "    \n",
    "    # Save the plot as an image file (e.g., PNG)\n",
    "    filename = f\"{output_dir}/class_distribution.png\"\n",
    "    plt.savefig(filename)\n",
    "    print(f\"Class distribution saved as {filename}\")\n",
    "\n",
    "    plt.show()\n",
    "\n",
    "# Save the class distribution plot\n",
    "save_class_distribution(df)"
   ]
  },
  {
   "cell_type": "code",
   "execution_count": 7,
   "id": "ea6c46e9-8759-4239-aff6-f3e3d14aaeb7",
   "metadata": {},
   "outputs": [],
   "source": [
    "# Initialize stop words, lemmatizer, and punctuation removal\n",
    "stop_words = set(stopwords.words('english'))\n",
    "lemmatizer = WordNetLemmatizer()\n",
    "\n",
    "def preprocess_text(text):\n",
    "    \"\"\"Preprocess text: lowercasing, tokenization, punctuation and stopword removal, and lemmatization.\"\"\"\n",
    "    text = text.lower()\n",
    "    tokens = word_tokenize(text)\n",
    "    tokens = [lemmatizer.lemmatize(word) for word in tokens if word.isalnum() and word not in stop_words]\n",
    "    return ' '.join(tokens)"
   ]
  },
  {
   "cell_type": "code",
   "execution_count": 8,
   "id": "01965723-14c2-4754-b890-8d6e04117c75",
   "metadata": {},
   "outputs": [],
   "source": [
    "# Apply preprocessing to the text column\n",
    "df['text'] = df['text'].apply(preprocess_text)"
   ]
  },
  {
   "cell_type": "code",
   "execution_count": 9,
   "id": "ddb61228-bff0-4228-9f11-26a037fb09b1",
   "metadata": {},
   "outputs": [],
   "source": [
    "# Map categorical labels to numeric values\n",
    "label_mapping = {'non-suicide': 0, 'suicide': 1}\n",
    "df['class'] = df['class'].map(label_mapping)\n",
    "\n",
    "# Split the data into features (X) and target (y)\n",
    "X = df['text']\n",
    "y = df['class']"
   ]
  },
  {
   "cell_type": "code",
   "execution_count": 10,
   "id": "26a9d7ef-8493-48f9-bd55-ca4df0a38095",
   "metadata": {},
   "outputs": [],
   "source": [
    "# Vectorize the text data using TF-IDF\n",
    "vectorizer = TfidfVectorizer()\n",
    "X_vect = vectorizer.fit_transform(X)"
   ]
  },
  {
   "cell_type": "code",
   "execution_count": 11,
   "id": "f0a6aa33-4727-4843-9523-fbba4279f186",
   "metadata": {},
   "outputs": [],
   "source": [
    "# Initialize classifiers\n",
    "classifiers = {\n",
    "    # \"Naive Bayes\": MultinomialNB(),\n",
    "    # \"Logistic Regression\": LogisticRegression(max_iter=1000),\n",
    "    # \"K-Nearest Neighbors\": KNeighborsClassifier(),\n",
    "    # \"Decision Tree\": DecisionTreeClassifier(),\n",
    "    # \"Random Forest\": RandomForestClassifier(),\n",
    "    # \"LightGBM\": lgb.LGBMClassifier(),\n",
    "    # \"XGBoost\": XGBClassifier(eval_metric='logloss'),\n",
    "    \"Support Vector Machine\": SVC(kernel='linear'),\n",
    "}"
   ]
  },
  {
   "cell_type": "code",
   "execution_count": 12,
   "id": "a44be1c9-d7fc-487d-a9a8-2838b531a1ff",
   "metadata": {},
   "outputs": [],
   "source": [
    "def evaluate_classifier(clf, X_vect, y):\n",
    "    \"\"\"Evaluate classifier using cross-validation and return evaluation metrics and predictions.\"\"\"\n",
    "    y_pred = cross_val_predict(clf, X_vect, y, cv=10)\n",
    "    precision = precision_score(y, y_pred, average='weighted')\n",
    "    recall = recall_score(y, y_pred, average='weighted')\n",
    "    f1 = f1_score(y, y_pred, average='weighted')\n",
    "    accuracy = accuracy_score(y, y_pred)\n",
    "    return precision, recall, f1, accuracy, y_pred"
   ]
  },
  {
   "cell_type": "code",
   "execution_count": 13,
   "id": "a95a93c4-6cc8-4c6f-8521-b7010c90d98a",
   "metadata": {},
   "outputs": [],
   "source": [
    "def plot_confusion_matrix(y_true, y_pred, clf_name, precision, recall, f1, accuracy):\n",
    "    \"\"\"Plot confusion matrix for given classifier results and include evaluation metrics in the plot.\"\"\"\n",
    "    cm = confusion_matrix(y_true, y_pred)\n",
    "\n",
    "    # Plot the confusion matrix\n",
    "    plt.figure(figsize=(8, 6))\n",
    "    sns.heatmap(cm, annot=True, fmt='d', cmap='Blues', cbar=False)\n",
    "    plt.xlabel('Predicted')\n",
    "    plt.ylabel('True')\n",
    "    plt.title(f'Confusion Matrix - {clf_name}')\n",
    "    \n",
    "    # Add metrics as text in the plot\n",
    "    metrics_text = (f\"Accuracy: {accuracy:.2f}\\n\"\n",
    "                    f\"Precision: {precision:.2f}\\n\"\n",
    "                    f\"Recall: {recall:.2f}\\n\"\n",
    "                    f\"F1 Score: {f1:.2f}\")\n",
    "    \n",
    "    # Place metrics text in the bottom right corner of the plot\n",
    "    plt.gcf().text(0.95, 0.5, metrics_text, ha='right', va='center', fontsize=12, bbox=dict(facecolor='white', alpha=0.8))\n",
    "\n",
    "    # Create a directory for saving confusion matrices, if it doesn't exist\n",
    "    output_dir = \"confusion_matrices\"\n",
    "    if not os.path.exists(output_dir):\n",
    "        os.makedirs(output_dir)\n",
    "    \n",
    "    # Save the plot as an image file (e.g., PNG)\n",
    "    filename = f\"{output_dir}/confusion_matrix_{clf_name}.png\"\n",
    "    plt.savefig(filename, bbox_inches='tight')\n",
    "    print(f\"Confusion matrix saved as {filename}\")\n",
    "\n",
    "    plt.show()"
   ]
  },
  {
   "cell_type": "code",
   "execution_count": 14,
   "id": "59a5be26-14c3-4170-ae7e-6d95f659cd04",
   "metadata": {},
   "outputs": [
    {
     "name": "stderr",
     "output_type": "stream",
     "text": [
      "Training classifiers:   0%|                               | 0/1 [00:00<?, ?it/s]"
     ]
    },
    {
     "name": "stdout",
     "output_type": "stream",
     "text": [
      "Classifier: Support Vector Machine\n",
      "Precision: 0.94\n",
      "Recall: 0.94\n",
      "F1 Score: 0.94\n",
      "Accuracy: 0.94\n",
      "Confusion matrix saved as confusion_matrices/confusion_matrix_Support Vector Machine.png\n"
     ]
    },
    {
     "data": {
      "image/png": "[encoded data removed]",
      "text/plain": [
       "<Figure size 800x600 with 1 Axes>"
      ]
     },
     "metadata": {},
     "output_type": "display_data"
    },
    {
     "name": "stderr",
     "output_type": "stream",
     "text": [
      "Training classifiers: 100%|████████████████| 1/1 [51:12:44<00:00, 184364.75s/it]\n"
     ]
    }
   ],
   "source": [
    "# Track the classifier with the highest accuracy\n",
    "best_clf_name = None\n",
    "best_clf_accuracy = 0\n",
    "best_clf = None\n",
    "\n",
    "# Perform evaluation for each classifier with a loading bar\n",
    "for clf_name, clf in tqdm(classifiers.items(), desc=\"Training classifiers\"):\n",
    "    precision, recall, f1, accuracy, y_pred = evaluate_classifier(clf, X_vect, y)\n",
    "    \n",
    "    # Display evaluation metrics\n",
    "    print(f\"Classifier: {clf_name}\")\n",
    "    print(f\"Precision: {precision:.2f}\")\n",
    "    print(f\"Recall: {recall:.2f}\")\n",
    "    print(f\"F1 Score: {f1:.2f}\")\n",
    "    print(f\"Accuracy: {accuracy:.2f}\")\n",
    "    \n",
    "    # Plot confusion matrix with metrics\n",
    "    plot_confusion_matrix(y, y_pred, clf_name, precision, recall, f1, accuracy)\n",
    "    \n",
    "    # Update best classifier\n",
    "    if accuracy > best_clf_accuracy:\n",
    "        best_clf_accuracy = accuracy\n",
    "        best_clf_name = clf_name\n",
    "        best_clf = clf"
   ]
  },
  {
   "cell_type": "code",
   "execution_count": 15,
   "id": "3f6a430b-ee7a-47c1-b8b4-af51eef96519",
   "metadata": {},
   "outputs": [
    {
     "name": "stdout",
     "output_type": "stream",
     "text": [
      "The best classifier is: Support Vector Machine, with accuracy: 0.94\n"
     ]
    }
   ],
   "source": [
    "# Save the best classifier to a pickle file\n",
    "with open('best_classifier.pkl', 'wb') as f:\n",
    "    pickle.dump(best_clf, f)\n",
    "\n",
    "print(f\"The best classifier is: {best_clf_name}, with accuracy: {best_clf_accuracy:.2f}\")"
   ]
  }
 ],
 "metadata": {
  "kernelspec": {
   "display_name": "Python 3 (ipykernel)",
   "language": "python",
   "name": "python3"
  },
  "language_info": {
   "codemirror_mode": {
    "name": "ipython",
    "version": 3
   },
   "file_extension": ".py",
   "mimetype": "text/x-python",
   "name": "python",
   "nbconvert_exporter": "python",
   "pygments_lexer": "ipython3",
   "version": "3.12.7"
  }
 },
 "nbformat": 4,
 "nbformat_minor": 5
}
